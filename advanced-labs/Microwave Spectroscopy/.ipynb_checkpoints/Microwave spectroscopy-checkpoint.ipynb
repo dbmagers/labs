{
 "cells": [
  {
   "cell_type": "markdown",
   "metadata": {},
   "source": [
    "This lab activity is intended to show students the information that can be obtained from spectroscopic physical observables - specifically using rotational constants obtained from microwave spectroscopy to determine the geometry of a molecule, r<sub>0</sub>.  Rotational constants can also be obtained computational using the Psi4 quantum chemistry software package.\n",
    "\n",
    "Prerequisite knowledge: This lab assumes that the students understand the concepts of angular momentum and a rotational constant.  The lab also assumes all the standard python pre-requisites of all Psi4Education labs.\n",
    "\n",
    "Learning ojbectives:\n",
    "1. blah\n",
    "2. blah\n",
    "\n",
    "Authors: D. Brandon Magers (bmagers@belhaven.edu; [ORCID: 0000-0001-6002-0183](https://orcid.org/0000-0001-6002-0183 \"ORCID ID\"))\n",
    "\n",
    "Copyright: Psi4Education Project, 2019"
   ]
  },
  {
   "cell_type": "markdown",
   "metadata": {},
   "source": [
    "# Microwave Spectroscopy\n",
    "## Introduction\n",
    "The Kraitchman equations can be used to determine the molecular structure to high precision from experimental rotational constants of a reference molecule and isotope substituted isotopologs.\n",
    "\n",
    "$$z_i=\\sqrt{\\left ( \\frac{\\hbar}{4\\pi c} \\right )\n",
    "\\left ( \\frac{1}{\\Delta m_i}+\\frac{1}{M} \\right )\n",
    "\\left ( \\frac{A^{\\circ}}{B^{\\circ}} \\right )\n",
    "\\left ( 1-\\frac{B^{\\circ}}{A_i} \\right )\n",
    "\\left ( 1-\\frac{B^{\\circ}}{B_i} \\right )\n",
    "\\left ( \\frac{1}{B^{\\circ}-A^{\\circ}} \\right ) }$$\n",
    "\n",
    "$$y_i=\\sqrt{\\left ( \\frac{\\hbar}{4\\pi c} \\right )\n",
    "\\left ( \\frac{1}{\\Delta m_i}+\\frac{1}{M} \\right )\n",
    "\\left ( \\frac{B^{\\circ}}{A^{\\circ}} \\right )\n",
    "\\left ( 1-\\frac{A^{\\circ}}{A_i} \\right )\n",
    "\\left ( 1-\\frac{A^{\\circ}}{B_i} \\right )\n",
    "\\left ( \\frac{1}{A^{\\circ}-B^{\\circ}} \\right ) }$$\n",
    "\n",
    "Here $z_i$ and $x_i$ give the displacement of atom *i* from the center of mass in meters. The other\n",
    "variables are defined as follows:\n",
    "\n",
    "$\\Delta m_i \\Rightarrow $ difference of isotope mass from reference atom mass in *kg*\n",
    "\n",
    "$M \\Rightarrow $ total mass of reference molecule in *kg*\n",
    "\n",
    "$A^{\\circ} \\Rightarrow $ rotational constant A of reference molecule in $m^{-1}$\n",
    "\n",
    "$B^{\\circ} \\Rightarrow $ rotational constant B of reference molecule in $m^{-1}$\n",
    "\n",
    "$A_i \\Rightarrow $ rotational constant A of isotopolog in $m^{-1}$\n",
    "\n",
    "$B_i \\Rightarrow $ rotational constant B of isotopolog in $m^{-1}$\n",
    "\n",
    "We will use these equations to determine the precise molecular structure of ethenone pictured below.\n",
    "\n",
    "INSERT IMAGE OF ETHENONE HERE\n",
    "<img\n",
    "\n",
    "Consider the molecule to be oriented in the *yz* plane with the *z* axis along the principle axis of rotation.\n",
    "\n",
    "The following table contains experimental high-resolution rotational constants in MHz for isotopologs for ethenone.\n",
    "\n",
    "|  | A | B | C |\n",
    "| :-: | :-: | :-: | :-: |\n",
    "| H<sub>2</sub>CCO | 282101.185 | 10293.32117 | 9915.90548 |\n",
    "| H<sub>2</sub><sup>13</sup>CCO | 282112 | 9960.9659 | 9607.1276 |\n",
    "| H<sub>2</sub>CC<sup>18</sup>O | 287350 | 9761.2368 | 9421.1236 |\n",
    "| HDCCO | 194305 | 9647.0664 | 9174.6457 |"
   ]
  },
  {
   "cell_type": "markdown",
   "metadata": {},
   "source": [
    "## Part 1 - Using the Kraitchman equations\n",
    "Use the Kraitchman equations to find the displacement in the *z* and *y* directions of each atom except the central carbon (one connected to oxygen)."
   ]
  },
  {
   "cell_type": "code",
   "execution_count": null,
   "metadata": {},
   "outputs": [],
   "source": [
    "# Define all constants in SI units\n",
    "c = 299792458 # speed of light in m/s\n"
   ]
  }
 ],
 "metadata": {
  "kernelspec": {
   "display_name": "Python 3",
   "language": "python",
   "name": "python3"
  },
  "language_info": {
   "codemirror_mode": {
    "name": "ipython",
    "version": 3
   },
   "file_extension": ".py",
   "mimetype": "text/x-python",
   "name": "python",
   "nbconvert_exporter": "python",
   "pygments_lexer": "ipython3",
   "version": "3.7.4"
  }
 },
 "nbformat": 4,
 "nbformat_minor": 2
}
